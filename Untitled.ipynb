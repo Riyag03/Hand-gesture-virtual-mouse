{
 "cells": [
  {
   "cell_type": "code",
   "execution_count": 1,
   "id": "cc2a3f69-776b-47ef-b966-386f1372be59",
   "metadata": {},
   "outputs": [],
   "source": [
    "import cv2\n",
    "import numpy as np\n",
    "import mediapipe as mp\n",
    "import pyautogui as pyt"
   ]
  },
  {
   "cell_type": "code",
   "execution_count": null,
   "id": "d7b9887c-63c4-4626-87ad-94a633d74bb3",
   "metadata": {},
   "outputs": [],
   "source": []
  }
 ],
 "metadata": {
  "kernelspec": {
   "display_name": "Python 3 (ipykernel)",
   "language": "python",
   "name": "python3"
  },
  "language_info": {
   "codemirror_mode": {
    "name": "ipython",
    "version": 3
   },
   "file_extension": ".py",
   "mimetype": "text/x-python",
   "name": "python",
   "nbconvert_exporter": "python",
   "pygments_lexer": "ipython3",
   "version": "3.9.10"
  }
 },
 "nbformat": 4,
 "nbformat_minor": 5
}
